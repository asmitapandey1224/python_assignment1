{
  "cells": [
    {
      "cell_type": "markdown",
      "metadata": {
        "id": "view-in-github",
        "colab_type": "text"
      },
      "source": [
        "<a href=\"https://colab.research.google.com/github/asmitapandey1224/python_assignment1/blob/main/PythonDataStructure.ipynb\" target=\"_parent\"><img src=\"https://colab.research.google.com/assets/colab-badge.svg\" alt=\"Open In Colab\"/></a>"
      ]
    },
    {
      "cell_type": "code",
      "execution_count": null,
      "metadata": {
        "id": "KCRavFABdk-T"
      },
      "outputs": [],
      "source": [
        "# Python Data Structure"
      ]
    },
    {
      "cell_type": "code",
      "execution_count": null,
      "metadata": {
        "colab": {
          "base_uri": "https://localhost:8080/"
        },
        "id": "8K94UW3-eq5G",
        "outputId": "b2ac5395-412c-41c5-ec08-7ec06a301a4d"
      },
      "outputs": [
        {
          "name": "stdout",
          "output_type": "stream",
          "text": [
            "Enter a string : asmita\n",
            "Reversed String :  atimsa\n"
          ]
        }
      ],
      "source": [
        "# Write a code to reverse a string\n",
        "\n",
        "\n",
        "# Code:\n",
        "sentence = input(\"Enter a string : \")\n",
        "rev_str = sentence[::-1]\n",
        "print(\"Reversed String : \", rev_str)"
      ]
    },
    {
      "cell_type": "code",
      "execution_count": null,
      "metadata": {
        "colab": {
          "base_uri": "https://localhost:8080/"
        },
        "id": "ND2RIQjwfU5s",
        "outputId": "09579326-0342-4cb0-906b-17979facdd07"
      },
      "outputs": [
        {
          "name": "stdout",
          "output_type": "stream",
          "text": [
            "Enter a string : asmita\n",
            "Number of vowels =  3\n"
          ]
        }
      ],
      "source": [
        "# Write a code to count the number of vowels in a string\n",
        "\n",
        "# Code:\n",
        "string = input(\"Enter a string : \")\n",
        "vowels = \"aeiouAEIOU\"\n",
        "count = 0\n",
        "for char in string:\n",
        "    if char in vowels:\n",
        "        count += 1\n",
        "print(\"Number of vowels = \", count)"
      ]
    },
    {
      "cell_type": "code",
      "execution_count": null,
      "metadata": {
        "colab": {
          "base_uri": "https://localhost:8080/"
        },
        "id": "3hNG37gzffLW",
        "outputId": "8c2fd77f-dfda-478c-dd1f-c477a9cfd234"
      },
      "outputs": [
        {
          "name": "stdout",
          "output_type": "stream",
          "text": [
            "Enter a string : aba\n",
            "The string is a palindrome.\n"
          ]
        }
      ],
      "source": [
        "# Write a code to check if  a given string is a palindrome or not\n",
        "\n",
        "def is_palindrome(input_string):\n",
        "    input_string = input_string.replace(\" \", \"\").lower()\n",
        "    return input_string == input_string[::-1]\n",
        "\n",
        "string = input(\"Enter a string : \")\n",
        "result = is_palindrome(string)\n",
        "if result:\n",
        "    print(\"The string is a palindrome.\")\n",
        "else:\n",
        "    print(\"The string is not a palindrome.\")"
      ]
    },
    {
      "cell_type": "code",
      "execution_count": null,
      "metadata": {
        "colab": {
          "base_uri": "https://localhost:8080/"
        },
        "id": "-H28bW2sfpWQ",
        "outputId": "e41b96b0-5c8d-4d10-c3bb-0211ee94f18a"
      },
      "outputs": [
        {
          "name": "stdout",
          "output_type": "stream",
          "text": [
            "Enter string 1 : listen\n",
            "Enter string 2 : silent\n",
            "listen and silent are anagrams.\n"
          ]
        }
      ],
      "source": [
        "# write a code to check if two given strings are anagrams of each other.\n",
        "\n",
        "def check_anagrams(str1, str2):\n",
        "    str1 = str1.replace(\" \", \"\").lower()\n",
        "    str2 = str2.replace(\" \", \"\").lower()\n",
        "\n",
        "    if len(str1) != len(str2):\n",
        "        return False\n",
        "\n",
        "    char_count = {}\n",
        "    for char in str1:\n",
        "        if char in char_count:\n",
        "            char_count[char] += 1\n",
        "        else:\n",
        "            char_count[char] = 1\n",
        "\n",
        "    for char in str2:\n",
        "        if char in char_count:\n",
        "            char_count[char] -= 1\n",
        "        else:\n",
        "            return False\n",
        "\n",
        "    for count in char_count.values():\n",
        "        if count != 0:\n",
        "            return False\n",
        "\n",
        "    return True\n",
        "\n",
        "\n",
        "string1 = input(\"Enter string 1 : \")\n",
        "string2 = input(\"Enter string 2 : \")\n",
        "if check_anagrams(string1, string2):\n",
        "    print(f\"{string1} and {string2} are anagrams.\")\n",
        "else:\n",
        "    print(f\"{string1} and {string2} are not anagrams.\")"
      ]
    },
    {
      "cell_type": "code",
      "execution_count": null,
      "metadata": {
        "colab": {
          "background_save": true
        },
        "id": "I_JW7tARgLLN",
        "outputId": "4277afa9-006e-4c61-d853-41a724ba2791"
      },
      "outputs": [
        {
          "name": "stdout",
          "output_type": "stream",
          "text": [
            "Occurrences of 'am' in 'I am a student':\n",
            "[2]\n"
          ]
        }
      ],
      "source": [
        "# write a code to find all occurrences of a given substring within another string\n",
        "\n",
        "def find_occurrences(main_string, sub_string):\n",
        "    occurrences = []\n",
        "    start_index = 0\n",
        "\n",
        "    while True:\n",
        "        index = main_string.find(sub_string, start_index)\n",
        "        if index == -1:\n",
        "            break\n",
        "        occurrences.append(index)\n",
        "        start_index = index + 1\n",
        "\n",
        "    return occurrences\n",
        "\n",
        "\n",
        "main_string = input(\"Enter the main string : \")\n",
        "sub_string = input(\"Enter the sub-string : \")\n",
        "result = find_occurrences(main_string, sub_string)\n",
        "print(\"Occurrences of '{}' in '{}':\".format(sub_string, main_string))\n",
        "print(result)\n"
      ]
    },
    {
      "cell_type": "code",
      "execution_count": null,
      "metadata": {
        "colab": {
          "base_uri": "https://localhost:8080/"
        },
        "id": "ReOz3zQ2hQrC",
        "outputId": "45817229-398f-4514-e013-6874b5483530"
      },
      "outputs": [
        {
          "name": "stdout",
          "output_type": "stream",
          "text": [
            "Enter a string : aaaabbccc\n",
            "Compressed string: a4b2c3\n"
          ]
        }
      ],
      "source": [
        "# Write a code to perform basic string compression using the counts of repeated characters\n",
        "\n",
        "def compress_string(input_string):\n",
        "    compressed_string = \"\"\n",
        "    count = 1\n",
        "    for i in range(len(input_string)):\n",
        "        if i + 1 < len(input_string) and input_string[i] == input_string[i + 1]:\n",
        "            count += 1\n",
        "        else:\n",
        "            compressed_string += input_string[i] + str(count)\n",
        "            count = 1\n",
        "    if len(compressed_string) >= len(input_string):\n",
        "        return input_string\n",
        "    else:\n",
        "        return compressed_string\n",
        "\n",
        "\n",
        "input_string = input(\"Enter a string : \")\n",
        "compressed_result = compress_string(input_string)\n",
        "print(\"Compressed string:\", compressed_result)\n"
      ]
    },
    {
      "cell_type": "code",
      "execution_count": null,
      "metadata": {
        "colab": {
          "base_uri": "https://localhost:8080/"
        },
        "id": "MXEGKN7Mh5vO",
        "outputId": "815609bf-16dd-4f0e-bc0e-a77dc9d2b413"
      },
      "outputs": [
        {
          "name": "stdout",
          "output_type": "stream",
          "text": [
            "Enter string 1 : asmita\n",
            "String 'asmita' has all unique characters: False\n"
          ]
        }
      ],
      "source": [
        "# Write a code to determine if a string has all unique characters\n",
        "\n",
        "def has_unique_characters(input_string):\n",
        "    encountered = set()\n",
        "\n",
        "    for char in input_string:\n",
        "        if char in encountered:\n",
        "            return False\n",
        "        else:\n",
        "            encountered.add(char)\n",
        "    return True\n",
        "\n",
        "\n",
        "string1 = input(\"Enter string 1 : \")\n",
        "\n",
        "print(\"String '{}' has all unique characters: {}\".format(string1, has_unique_characters(string1)))\n"
      ]
    },
    {
      "cell_type": "code",
      "execution_count": null,
      "metadata": {
        "colab": {
          "base_uri": "https://localhost:8080/"
        },
        "id": "jMsv3rOFiCL_",
        "outputId": "8d01db60-0710-4102-afdf-c457d9d15711"
      },
      "outputs": [
        {
          "name": "stdout",
          "output_type": "stream",
          "text": [
            "Enter a string : Hello World\n",
            "\n",
            "Original string: Hello World\n",
            "Uppercase string: HELLO WORLD\n",
            "Lowercase string: hello world\n"
          ]
        }
      ],
      "source": [
        "# Write a code to convert a  given string to uppercase or lowercase\n",
        "\n",
        "input_string = input(\"Enter a string : \")\n",
        "upper_string = input_string.upper()\n",
        "lower_string = input_string.lower()\n",
        "print()\n",
        "print(\"Original string:\", input_string)\n",
        "print(\"Uppercase string:\", upper_string)\n",
        "print(\"Lowercase string:\", lower_string)"
      ]
    },
    {
      "cell_type": "code",
      "execution_count": null,
      "metadata": {
        "colab": {
          "base_uri": "https://localhost:8080/"
        },
        "id": "dQpei6zbiP5w",
        "outputId": "62825cf8-9b9e-43e5-cb35-404cbbdfc9aa"
      },
      "outputs": [
        {
          "name": "stdout",
          "output_type": "stream",
          "text": [
            "Enter a string : i am a good student\n",
            "Number of words in the string: 5\n"
          ]
        }
      ],
      "source": [
        "# write a code to count the number of words in a string\n",
        "\n",
        "def count_words(input_string):\n",
        "    words = input_string.split()\n",
        "    return len(words)\n",
        "\n",
        "\n",
        "input_string = input(\"Enter a string : \")\n",
        "num_words = count_words(input_string)\n",
        "print(\"Number of words in the string:\", num_words)\n"
      ]
    },
    {
      "cell_type": "code",
      "execution_count": null,
      "metadata": {
        "colab": {
          "base_uri": "https://localhost:8080/"
        },
        "id": "hOI05XG3iX6F",
        "outputId": "49cd51b9-e6fc-4048-82e6-71a57e14ceaf"
      },
      "outputs": [
        {
          "name": "stdout",
          "output_type": "stream",
          "text": [
            "Enter a string : asmita\n",
            "Enter an another string : pandey\n",
            "Concatenated string: asmita pandey\n"
          ]
        }
      ],
      "source": [
        "# write a code to concatenate two strings without using the + operator\n",
        "\n",
        "def concatenate_strings(str1, str2):\n",
        "    return \"{} {}\".format(str1, str2)\n",
        "\n",
        "\n",
        "string1 = input(\"Enter a string : \")\n",
        "string2 = input(\"Enter an another string : \")\n",
        "result = concatenate_strings(string1, string2)\n",
        "print(\"Concatenated string:\", result)"
      ]
    },
    {
      "cell_type": "code",
      "execution_count": null,
      "metadata": {
        "colab": {
          "base_uri": "https://localhost:8080/"
        },
        "id": "jmoNWZ9RigA7",
        "outputId": "3aaaf6e4-0834-4533-c8db-4e514c74ddd7"
      },
      "outputs": [
        {
          "name": "stdout",
          "output_type": "stream",
          "text": [
            "Enter element of the list separated by space: 1 2 3 4 5\n",
            "Enter the element to remove : 3\n",
            "List after removing all occurrences of 3: [1, 2, 4, 5]\n"
          ]
        }
      ],
      "source": [
        "# Write a code to remove all occurrences of a specific element from a list.\n",
        "\n",
        "element = input(\"Enter element of the list separated by space: \").split()\n",
        "element = [int(elem) for elem in element]\n",
        "\n",
        "element_to_remove = int(input(\"Enter the element to remove : \"))\n",
        "\n",
        "remove_element = [item for item in element if item != element_to_remove]\n",
        "\n",
        "if element_to_remove:\n",
        "    print(\"List after removing all occurrences of {}: {}\".format(element_to_remove, remove_element))\n",
        "else:\n",
        "    print(\"Element {} not found in the list.\".format(element_to_remove))"
      ]
    },
    {
      "cell_type": "code",
      "execution_count": null,
      "metadata": {
        "colab": {
          "base_uri": "https://localhost:8080/"
        },
        "id": "e6je-Pifip9k",
        "outputId": "36e1ebb0-093b-4b53-b018-badf485c2b3a"
      },
      "outputs": [
        {
          "name": "stdout",
          "output_type": "stream",
          "text": [
            "Enter element of the list separated by space: 1 2 3 4 5\n",
            "Second largest number:  4\n"
          ]
        }
      ],
      "source": [
        "# Implement a code to find the second largest number in a given list of integers.\n",
        "\n",
        "def find_second_largest(lst):\n",
        "    sorted_list = sorted(lst, reverse=True)\n",
        "\n",
        "    if len(sorted_list) < 2:\n",
        "        return None\n",
        "\n",
        "    return sorted_list[1]\n",
        "\n",
        "input_list = input(\"Enter element of the list separated by space: \").split()\n",
        "# convert input elements to integers\n",
        "input_list = [int(inp) for inp in input_list]\n",
        "second_largest = find_second_largest(input_list)\n",
        "if second_largest is not None:\n",
        "    print(\"Second largest number: \", second_largest)\n",
        "else:\n",
        "    print(\"The list does not have a second largest number.\")"
      ]
    },
    {
      "cell_type": "code",
      "execution_count": null,
      "metadata": {
        "colab": {
          "base_uri": "https://localhost:8080/"
        },
        "id": "iBRasUqjixxB",
        "outputId": "0a2c9f74-8700-4f28-df8d-aebd9b01b33f"
      },
      "outputs": [
        {
          "name": "stdout",
          "output_type": "stream",
          "text": [
            "Occurrences of each element:  {1: 1, 2: 3, 3: 3, 4: 4}\n"
          ]
        }
      ],
      "source": [
        "# Create a code to count the occurrences of each element in a list and return a dictionary with elements as keys and their counts as values.\n",
        "\n",
        "my_list = [1, 2, 2, 2, 3, 3, 3, 4, 4, 4, 4]\n",
        "count = {}\n",
        "\n",
        "for item in my_list:\n",
        "    count[item] = count.get(item, 0) +1\n",
        "\n",
        "print(\"Occurrences of each element: \", count)"
      ]
    },
    {
      "cell_type": "code",
      "execution_count": null,
      "metadata": {
        "colab": {
          "base_uri": "https://localhost:8080/"
        },
        "id": "hcZyzvHCi3yp",
        "outputId": "a64ac8a6-6ec7-468b-889a-2673b1d11dcc"
      },
      "outputs": [
        {
          "name": "stdout",
          "output_type": "stream",
          "text": [
            "Original List:  [1, 2, 3, 4, 5]\n",
            "Reversed list:  [5, 4, 3, 2, 1]\n"
          ]
        }
      ],
      "source": [
        "# Write a code to reverse a list in-place without using any built-in reverse functions.\n",
        "\n",
        "lis = [1, 2, 3, 4, 5]\n",
        "print(\"Original List: \", lis)\n",
        "\n",
        "n = len(lis)\n",
        "\n",
        "for i in range(n // 2):\n",
        "    lis[i], lis[n - i - 1] = lis[n - i - 1], lis[i]\n",
        "\n",
        "print(\"Reversed list: \", lis)"
      ]
    },
    {
      "cell_type": "code",
      "execution_count": null,
      "metadata": {
        "colab": {
          "base_uri": "https://localhost:8080/"
        },
        "id": "3mNV0BTgi8GB",
        "outputId": "d12f4ecf-4f0b-4151-b822-9b9c2c98ed24"
      },
      "outputs": [
        {
          "name": "stdout",
          "output_type": "stream",
          "text": [
            "List after removing duplicates:  [1, 2, 3, 7, 5, 6]\n"
          ]
        }
      ],
      "source": [
        "# Implement a code to find and remove duplicates from a list while preserving the original order of elements.\n",
        "\n",
        "my_list = [1, 2, 2, 3, 3, 7,5,5, 6]\n",
        "\n",
        "seen = set()\n",
        "unique_list = []\n",
        "\n",
        "for item in my_list:\n",
        "    if item not in seen:\n",
        "        seen.add(item)\n",
        "        unique_list.append(item)\n",
        "\n",
        "print(\"List after removing duplicates: \", unique_list)"
      ]
    },
    {
      "cell_type": "code",
      "execution_count": null,
      "metadata": {
        "colab": {
          "base_uri": "https://localhost:8080/"
        },
        "id": "DmBEPCV9jDWG",
        "outputId": "0a8b68d7-8169-4190-b4a3-fd936306ce42"
      },
      "outputs": [
        {
          "name": "stdout",
          "output_type": "stream",
          "text": [
            "Not sorted\n"
          ]
        }
      ],
      "source": [
        "# Create a code to check if a given list is sorted (either in ascending or descending order) or not.\n",
        "\n",
        "\n",
        "my_list = [3, 1, 4, 2, 5]\n",
        "\n",
        "if all(my_list[i] <= my_list[i + 1] for i in range(len(my_list) - 1)):\n",
        "        print(\"Ascending\")\n",
        "\n",
        "if all(my_list[i] >= my_list[i + 1] for i in range(len(my_list) - 1)):\n",
        "    print(\"Descending\")\n",
        "\n",
        "print(\"Not sorted\")"
      ]
    },
    {
      "cell_type": "code",
      "execution_count": null,
      "metadata": {
        "colab": {
          "base_uri": "https://localhost:8080/"
        },
        "id": "04lPTEJUjHSp",
        "outputId": "510fecea-53d8-4b72-b373-169f44c9f627"
      },
      "outputs": [
        {
          "name": "stdout",
          "output_type": "stream",
          "text": [
            "[1, 2, 3, 4, 5, 6, 7, 8, 9, 10]\n"
          ]
        }
      ],
      "source": [
        "# Write a code to merge two sorted list into a single sorted list.\n",
        "\n",
        "list1 = [1, 3, 5, 7, 9]\n",
        "list2 = [2, 4, 6, 8, 10]\n",
        "\n",
        "merged_list = []\n",
        "\n",
        "i = j = 0\n",
        "\n",
        "while i < len(list1) and j < len(list2):\n",
        "    if list1[i] < list2[j]:\n",
        "        merged_list.append(list1[i])\n",
        "        i += 1\n",
        "    else:\n",
        "        merged_list.append(list2[j])\n",
        "        j += 1\n",
        "\n",
        "while i < len(list1):\n",
        "    merged_list.append(list1[i])\n",
        "    i += 1\n",
        "\n",
        "while j < len(list2):\n",
        "    merged_list.append(list2[j])\n",
        "    j += 1\n",
        "\n",
        "print(merged_list)"
      ]
    },
    {
      "cell_type": "code",
      "execution_count": null,
      "metadata": {
        "colab": {
          "base_uri": "https://localhost:8080/"
        },
        "id": "anLAOdvYjLNL",
        "outputId": "7d164e90-5915-47aa-f523-be3a4d60de2a"
      },
      "outputs": [
        {
          "name": "stdout",
          "output_type": "stream",
          "text": [
            "[3, 4, 5]\n"
          ]
        }
      ],
      "source": [
        "# Implement a code to find the intersection of two given list.\n",
        "\n",
        "l1 = [1, 2, 3, 4, 5]\n",
        "l2 = [3, 4, 5, 6, 7]\n",
        "\n",
        "set1 = set(l1)\n",
        "set2 = set(l2)\n",
        "\n",
        "intersection_set = set1.intersection(set2)\n",
        "\n",
        "intersection_list = list(intersection_set)\n",
        "\n",
        "print(intersection_list)"
      ]
    },
    {
      "cell_type": "code",
      "execution_count": null,
      "metadata": {
        "colab": {
          "base_uri": "https://localhost:8080/"
        },
        "id": "IBHmjz-FjOuB",
        "outputId": "90089397-0313-4ad2-98cc-a01d928bfd8e"
      },
      "outputs": [
        {
          "name": "stdout",
          "output_type": "stream",
          "text": [
            "[1, 2, 3, 4, 5, 6, 7]\n"
          ]
        }
      ],
      "source": [
        "# Create a code to find the union of two lists without duplicates.\n",
        "\n",
        "list1 = [1, 2, 3, 4, 5]\n",
        "list2 = [3, 4, 5, 6, 7]\n",
        "\n",
        "union_result = list1 + list2\n",
        "\n",
        "my_set = set(union_result)\n",
        "my_list = list(my_set)\n",
        "\n",
        "print(my_list)"
      ]
    },
    {
      "cell_type": "code",
      "execution_count": null,
      "metadata": {
        "colab": {
          "base_uri": "https://localhost:8080/"
        },
        "id": "Gqo7dJUIjSTU",
        "outputId": "cce73eb5-47b8-4a64-85ac-c3ebf3cdec36"
      },
      "outputs": [
        {
          "name": "stdout",
          "output_type": "stream",
          "text": [
            "Original List:  [1, 2, 3, 4, 5]\n",
            "Shuffled List:  [1, 2, 3, 5, 4]\n"
          ]
        }
      ],
      "source": [
        "# Write a code to shuffle a given list randomly without using any built-in shuffle functions.\n",
        "import random\n",
        "\n",
        "my_list = [1, 2, 3, 4, 5]\n",
        "\n",
        "shuffled_list = my_list[:]\n",
        "\n",
        "n = len(shuffled_list)\n",
        "\n",
        "for i in range(n-1, 0, -1):\n",
        "    j = random.randint(0, i)\n",
        "    shuffled_list[i], shuffled_list[j] = shuffled_list[j], shuffled_list[i]\n",
        "\n",
        "print(\"Original List: \", my_list)\n",
        "print(\"Shuffled List: \",shuffled_list)"
      ]
    },
    {
      "cell_type": "code",
      "execution_count": null,
      "metadata": {
        "colab": {
          "base_uri": "https://localhost:8080/"
        },
        "id": "vo9Vjt9ojWCT",
        "outputId": "1d20f48a-11dd-48a5-96f6-c4009e73e514"
      },
      "outputs": [
        {
          "name": "stdout",
          "output_type": "stream",
          "text": [
            "(4, 5)\n"
          ]
        }
      ],
      "source": [
        "# Write a code that takes two tuples as input and returns a new tuple containing elements that are common to both input tuples.\n",
        "\n",
        "tuple1 = (1, 2, 3, 4, 5)\n",
        "tuple2 = (4, 5, 6, 7, 8)\n",
        "\n",
        "set1 = set(tuple1)\n",
        "set2 = set(tuple2)\n",
        "\n",
        "common_element = set1 & set2\n",
        "common_tuple = tuple(common_element)\n",
        "\n",
        "print(common_tuple)"
      ]
    },
    {
      "cell_type": "code",
      "execution_count": null,
      "metadata": {
        "colab": {
          "base_uri": "https://localhost:8080/"
        },
        "id": "kuWnZnvDjeu5",
        "outputId": "6632c729-9a2a-429e-b55d-e6d2db2029cc"
      },
      "outputs": [
        {
          "name": "stdout",
          "output_type": "stream",
          "text": [
            "Enter integers for the first set separated by commas: 1, 2, 3, 4, 5\n",
            "Enter integers for the second set separated by commas: 3, 4, 5, 6, 7, 8\n",
            "Intersection of the two sets:  {3, 4, 5}\n"
          ]
        }
      ],
      "source": [
        "# Create a code that prompts the user to enter two sets of integers separated by commas. Then, print the intersection of these two sets.\n",
        "\n",
        "set1 = input(\"Enter integers for the first set separated by commas: \")\n",
        "integer_list1 = [int(x.strip()) for x in set1.split(\",\")]\n",
        "integer_set1 = set(integer_list1)\n",
        "\n",
        "set2 = input(\"Enter integers for the second set separated by commas: \")\n",
        "integer_list2 = [int(x.strip()) for x in set2.split(\",\")]\n",
        "integer_set2 = set(integer_list2)\n",
        "\n",
        "intersection = integer_set1.intersection(integer_set2)\n",
        "print(\"Intersection of the two sets: \", intersection)"
      ]
    },
    {
      "cell_type": "code",
      "execution_count": null,
      "metadata": {
        "colab": {
          "base_uri": "https://localhost:8080/"
        },
        "id": "OMad8zsKjoxm",
        "outputId": "239e91c9-ac33-4da4-857b-71f31a82df12"
      },
      "outputs": [
        {
          "name": "stdout",
          "output_type": "stream",
          "text": [
            "Concatenated tuple: (1, 2, 3, 4, 5, 6)\n"
          ]
        }
      ],
      "source": [
        "# Write a code to concatenate two tuples. The function should take two tuples as input and return a new tuple containing elements from both input tuples.\n",
        "\n",
        "tuple1 = (1, 2, 3)\n",
        "tuple2 = (4, 5, 6)\n",
        "\n",
        "concatenated_list = list(tuple1) + list(tuple2)\n",
        "\n",
        "concatenated_tuple = tuple(concatenated_list)\n",
        "\n",
        "print(\"Concatenated tuple:\", concatenated_tuple)"
      ]
    },
    {
      "cell_type": "code",
      "execution_count": null,
      "metadata": {
        "colab": {
          "base_uri": "https://localhost:8080/"
        },
        "id": "dSVZRtzRjsN5",
        "outputId": "3d645035-f445-471e-dfaf-0d2dafe6399b"
      },
      "outputs": [
        {
          "name": "stdout",
          "output_type": "stream",
          "text": [
            "Enter strings separated by commas for the first set: apple, banana, orange\n",
            "Enter strings separated by commas for the second set: banana, grapes, pineapple\n",
            "Elements present in the first set but not in the second set: {'apple', 'orange'}\n"
          ]
        }
      ],
      "source": [
        "# Develop a code that prompts the user to input two sets of strings. Then, print the elements that are present in the first set but not in the second set.\n",
        "\n",
        "set1 = input(\"Enter strings separated by commas for the first set: \")\n",
        "string_list1 = [x.strip() for x in set1.split(\",\")]\n",
        "string_set1 = set(string_list1)\n",
        "\n",
        "set2 = input(\"Enter strings separated by commas for the second set: \")\n",
        "string_list2 = [x.strip() for x in set2.split(\",\")]\n",
        "string_set2 = set(string_list2)\n",
        "\n",
        "differ = string_set1 - string_set2\n",
        "print(\"Elements present in the first set but not in the second set:\", differ)"
      ]
    },
    {
      "cell_type": "code",
      "execution_count": null,
      "metadata": {
        "colab": {
          "base_uri": "https://localhost:8080/"
        },
        "id": "Wlb98vIrmB9J",
        "outputId": "c13dff75-af80-488f-aa0e-f2dfdeabb7e6"
      },
      "outputs": [
        {
          "name": "stdout",
          "output_type": "stream",
          "text": [
            "New tuple containing elements within the specified range: (3, 4, 5, 6)\n"
          ]
        }
      ],
      "source": [
        "# Create a code that takes a tuple and two integers as input. The function should return a new tuple containing elements from the original tuple within the specified range of indices.\n",
        "\n",
        "input_tuple = (1, 2, 3, 4, 5, 6, 7, 8, 9)\n",
        "start_index = 2\n",
        "end_index = 5\n",
        "\n",
        "if start_index < 0 or end_index >= len(input_tuple) or start_index > end_index:\n",
        "    print(None)\n",
        "\n",
        "new_tuple = input_tuple[start_index:end_index+1]\n",
        "\n",
        "if new_tuple is not None:\n",
        "    print(\"New tuple containing elements within the specified range:\", new_tuple)\n",
        "else:\n",
        "    print(\"Invalid range of indices specified.\")"
      ]
    },
    {
      "cell_type": "code",
      "execution_count": null,
      "metadata": {
        "colab": {
          "base_uri": "https://localhost:8080/"
        },
        "id": "JIJHVfa0mmIy",
        "outputId": "0536e2c8-18c4-4449-a649-5abdf7991404"
      },
      "outputs": [
        {
          "name": "stdout",
          "output_type": "stream",
          "text": [
            "Enter characters separated by spaces for the first set: apple banana grapes\n",
            "Enter characters separated by spaces for the first set: guava mango pineapple\n",
            "Union of the two sets: {'grapes', 'mango', 'apple', 'guava', 'banana', 'pineapple'}\n"
          ]
        }
      ],
      "source": [
        "# Write a code that prompts the user to input two sets of characters. Then, print the union of these two sets.\n",
        "\n",
        "input1 = input(\"Enter characters separated by spaces for the first set: \")\n",
        "char_list1 = [c.strip() for c in input1.split()]\n",
        "set1 = set(char_list1)\n",
        "\n",
        "input2 = input(\"Enter characters separated by spaces for the first set: \")\n",
        "char_list2 = [c.strip() for c in input2.split()]\n",
        "set2 = set(char_list2)\n",
        "\n",
        "union_set = set1 | set2\n",
        "print(\"Union of the two sets:\", union_set)"
      ]
    },
    {
      "cell_type": "code",
      "execution_count": null,
      "metadata": {
        "colab": {
          "base_uri": "https://localhost:8080/"
        },
        "id": "hzJG7I20pvUe",
        "outputId": "3450a7e4-dd60-4d21-f4a8-45676d56dc6c"
      },
      "outputs": [
        {
          "name": "stdout",
          "output_type": "stream",
          "text": [
            "Maximum value: 20\n",
            "Minimum value: 5\n"
          ]
        }
      ],
      "source": [
        "# Develop a code that takes a tuple of integers as input. The function should return the maximum and minimum values from the tuple using tuple unpacking.\n",
        "\n",
        "input_tuple = (10, 5, 8, 20, 15)\n",
        "\n",
        "max_value = max(input_tuple)\n",
        "min_value = min(input_tuple)\n",
        "\n",
        "print(\"Maximum value:\", max_value)\n",
        "print(\"Minimum value:\", min_value)"
      ]
    },
    {
      "cell_type": "code",
      "execution_count": null,
      "metadata": {
        "colab": {
          "base_uri": "https://localhost:8080/"
        },
        "id": "o0WhxsLupz3L",
        "outputId": "502fd8a1-9b06-42eb-e1f4-a1c7b29540ef"
      },
      "outputs": [
        {
          "name": "stdout",
          "output_type": "stream",
          "text": [
            "Union =  {1, 2, 3, 4, 5, 6, 7, 8}\n",
            "Intersection =  {4, 5}\n",
            "Difference (set1 - set2) =  {1, 2, 3}\n",
            "Difference (set2 - set1) =  {8, 6, 7}\n"
          ]
        }
      ],
      "source": [
        "# Create a code that defines two sets of integers. Then, print the union, intersection, and difference of these two sets.\n",
        "\n",
        "set1 = {1, 2, 3, 4, 5}\n",
        "set2 = {4, 5, 6, 7, 8}\n",
        "\n",
        "print(\"Union = \", set1 | set2)\n",
        "print(\"Intersection = \", set1 & set2)\n",
        "print(\"Difference (set1 - set2) = \", set1 - set2)\n",
        "print(\"Difference (set2 - set1) = \", set2 - set1)"
      ]
    },
    {
      "cell_type": "code",
      "execution_count": null,
      "metadata": {
        "colab": {
          "base_uri": "https://localhost:8080/"
        },
        "id": "0BqTzqVIp3ZO",
        "outputId": "675f7fd0-80d3-4401-c409-4aff87bdea57"
      },
      "outputs": [
        {
          "name": "stdout",
          "output_type": "stream",
          "text": [
            "Occurrences of 2 in the tuple: 4\n"
          ]
        }
      ],
      "source": [
        "# Write a code that takes a tuple and an element as input. The function should return the count of occurrences of the given element in the tuple.\n",
        "\n",
        "input_tuple = (1, 2, 2, 3, 2, 4, 5, 2)\n",
        "\n",
        "element = 2\n",
        "occurrences = input_tuple.count(element)\n",
        "print(\"Occurrences of\", element, \"in the tuple:\", occurrences)"
      ]
    },
    {
      "cell_type": "code",
      "execution_count": null,
      "metadata": {
        "colab": {
          "base_uri": "https://localhost:8080/"
        },
        "id": "1Fn4gX5Rp6qS",
        "outputId": "f7f48210-f0ca-436a-8cc2-6effc958f69e"
      },
      "outputs": [
        {
          "name": "stdout",
          "output_type": "stream",
          "text": [
            "Enter strings separated by spaces for first set: apple banana cherry\n",
            "Enter strings separated by spaces for second set: banana cherry orange\n",
            "Symmetric difference of the two sets: {'apple', 'orange'}\n"
          ]
        }
      ],
      "source": [
        "# Develop a code that prompts the user to input two sets of strings. Then, print the symmetric difference of these two sets.\n",
        "\n",
        "input_string1 = input(\"Enter strings separated by spaces for first set: \")\n",
        "string_list1 = [s.strip() for s in input_string1.split()]\n",
        "set1 = set(string_list1)\n",
        "\n",
        "input_string2 = input(\"Enter strings separated by spaces for second set: \")\n",
        "string_list2 = [s.strip() for s in input_string2.split()]\n",
        "set2 = set(string_list2)\n",
        "\n",
        "symmetric_differ = set1.symmetric_difference(set2)\n",
        "print(\"Symmetric difference of the two sets:\", symmetric_differ)"
      ]
    }
  ],
  "metadata": {
    "colab": {
      "provenance": [],
      "authorship_tag": "ABX9TyOuLyC+SqmmVutFMO8HKDFM",
      "include_colab_link": true
    },
    "kernelspec": {
      "display_name": "Python 3",
      "name": "python3"
    },
    "language_info": {
      "name": "python"
    }
  },
  "nbformat": 4,
  "nbformat_minor": 0
}